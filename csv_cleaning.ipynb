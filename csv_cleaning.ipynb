{
 "cells": [
  {
   "cell_type": "code",
   "execution_count": 1,
   "id": "ac7fc91e-50e9-4191-8d27-250310e5f4f0",
   "metadata": {},
   "outputs": [
    {
     "name": "stdout",
     "output_type": "stream",
     "text": [
      "✅ Cleaned CSV saved as legalbench_cleaned_results.csv\n"
     ]
    }
   ],
   "source": [
    "import pandas as pd\n",
    "\n",
    "# Load the legalbench result CSV file\n",
    "df = pd.read_csv(\"legalbench_only_results.csv\")\n",
    "\n",
    "# Drop 'Document' and 'Response' columns\n",
    "columns_to_drop = [col for col in [\"Document\", \"Response\"] if col in df.columns]\n",
    "df = df.drop(columns=columns_to_drop)\n",
    "\n",
    "# Save to a new CSV file\n",
    "df.to_csv(\"legalbench_cleaned_results.csv\", index=False)\n",
    "\n",
    "print(\"✅ Cleaned CSV saved as legalbench_cleaned_results.csv\")"
   ]
  },
  {
   "cell_type": "code",
   "execution_count": null,
   "id": "dcfae7b5-d126-40ee-a4e9-ab462ed82b74",
   "metadata": {},
   "outputs": [],
   "source": []
  }
 ],
 "metadata": {
  "kernelspec": {
   "display_name": "Python 3 (ipykernel)",
   "language": "python",
   "name": "python3"
  },
  "language_info": {
   "codemirror_mode": {
    "name": "ipython",
    "version": 3
   },
   "file_extension": ".py",
   "mimetype": "text/x-python",
   "name": "python",
   "nbconvert_exporter": "python",
   "pygments_lexer": "ipython3",
   "version": "3.12.4"
  }
 },
 "nbformat": 4,
 "nbformat_minor": 5
}
